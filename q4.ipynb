{
  "nbformat": 4,
  "nbformat_minor": 0,
  "metadata": {
    "colab": {
      "provenance": []
    },
    "kernelspec": {
      "name": "python3",
      "display_name": "Python 3"
    },
    "language_info": {
      "name": "python"
    }
  },
  "cells": [
    {
      "cell_type": "code",
      "source": [
        "# Download data\n",
        "!wget http://ufldl.stanford.edu/housenumbers/train_32x32.mat\n",
        "!wget http://ufldl.stanford.edu/housenumbers/test_32x32.mat"
      ],
      "metadata": {
        "colab": {
          "base_uri": "https://localhost:8080/"
        },
        "id": "OPvxMa6KEd8e",
        "outputId": "9a5cfa43-2c5e-47fc-e7c7-13be28bde48a"
      },
      "execution_count": 10,
      "outputs": [
        {
          "output_type": "stream",
          "name": "stdout",
          "text": [
            "--2024-03-27 14:49:10--  http://ufldl.stanford.edu/housenumbers/train_32x32.mat\n",
            "Resolving ufldl.stanford.edu (ufldl.stanford.edu)... 171.64.68.10\n",
            "Connecting to ufldl.stanford.edu (ufldl.stanford.edu)|171.64.68.10|:80... connected.\n",
            "HTTP request sent, awaiting response... 200 OK\n",
            "Length: 182040794 (174M) [text/plain]\n",
            "Saving to: ‘train_32x32.mat.1’\n",
            "\n",
            "train_32x32.mat.1   100%[===================>] 173.61M  14.3MB/s    in 11s     \n",
            "\n",
            "2024-03-27 14:49:21 (16.4 MB/s) - ‘train_32x32.mat.1’ saved [182040794/182040794]\n",
            "\n",
            "--2024-03-27 14:49:21--  http://ufldl.stanford.edu/housenumbers/test_32x32.mat\n",
            "Resolving ufldl.stanford.edu (ufldl.stanford.edu)... 171.64.68.10\n",
            "Connecting to ufldl.stanford.edu (ufldl.stanford.edu)|171.64.68.10|:80... connected.\n",
            "HTTP request sent, awaiting response... 200 OK\n",
            "Length: 64275384 (61M) [text/plain]\n",
            "Saving to: ‘test_32x32.mat.1’\n",
            "\n",
            "test_32x32.mat.1    100%[===================>]  61.30M  19.9MB/s    in 3.2s    \n",
            "\n",
            "2024-03-27 14:49:24 (18.9 MB/s) - ‘test_32x32.mat.1’ saved [64275384/64275384]\n",
            "\n"
          ]
        }
      ]
    },
    {
      "cell_type": "code",
      "source": [
        "from scipy.io import loadmat\n",
        "import numpy as np\n",
        "import keras\n",
        "from keras.applications.resnet50 import ResNet50\n",
        "from keras.applications.resnet50 import preprocess_input, decode_predictions\n",
        "from keras.models import Sequential\n",
        "from tensorflow.keras.layers import Conv2D, MaxPooling2D, Flatten, Dense, Dropout\n",
        "from PIL import Image\n",
        "from keras.applications.resnet50 import ResNet50, preprocess_input, decode_predictions\n",
        "from keras.preprocessing.image import img_to_array, load_img"
      ],
      "metadata": {
        "id": "gtjj-uKMFKlm"
      },
      "execution_count": 22,
      "outputs": []
    },
    {
      "cell_type": "code",
      "source": [
        "train = loadmat('train_32x32.mat')\n",
        "test = loadmat('test_32x32.mat')\n",
        "X_train, y_train = train['X'], train['y']\n",
        "X_test, y_test = test['X'], test['y']"
      ],
      "metadata": {
        "id": "mBlijlqYo79O"
      },
      "execution_count": 12,
      "outputs": []
    },
    {
      "cell_type": "code",
      "source": [
        "X_train_subset=X_train[:,:,:,:22500]\n",
        "y_train_subset=y_train[:22500]\n",
        "X_test_subset=X_train[:,:,:,22500:25000]\n",
        "y_test_subset=y_train[22500:25000]"
      ],
      "metadata": {
        "id": "DLUntDfqFtFZ"
      },
      "execution_count": 13,
      "outputs": []
    },
    {
      "cell_type": "code",
      "source": [
        "y_train_subset=y_train_subset.reshape(22500,)\n",
        "y_test_subset=y_test_subset.reshape(2500,)"
      ],
      "metadata": {
        "id": "LiFuWtuwNEy7"
      },
      "execution_count": 14,
      "outputs": []
    },
    {
      "cell_type": "code",
      "source": [
        "# Check shapes of training and testing sets\n",
        "print('X_train has a shape of {}, y_train has a shape of {}'.format(X_train_subset.shape,y_train_subset.shape))\n",
        "print('X_test has a shape of {}, y_test has a shape of {}'.format(X_test_subset.shape,y_test_subset.shape))"
      ],
      "metadata": {
        "colab": {
          "base_uri": "https://localhost:8080/"
        },
        "id": "00z7xQCXFwpH",
        "outputId": "7006ae40-46a6-4f05-a415-e64c21fe2058"
      },
      "execution_count": 16,
      "outputs": [
        {
          "output_type": "stream",
          "name": "stdout",
          "text": [
            "X_train has a shape of (32, 32, 3, 22500), y_train has a shape of (22500,)\n",
            "X_test has a shape of (32, 32, 3, 2500), y_test has a shape of (2500,)\n"
          ]
        }
      ]
    },
    {
      "cell_type": "code",
      "source": [
        "# We noticed that 0 is labelled as 10 in the dataset, so we change it back\n",
        "y_train_subset = np.asarray([0 if i==10 else i for i in y_train_subset])\n",
        "y_test_subset = np.asarray([0 if i==10 else i for i in y_test_subset])\n",
        "np.unique(y_train_subset)"
      ],
      "metadata": {
        "colab": {
          "base_uri": "https://localhost:8080/"
        },
        "id": "EQXC_csQMmJ0",
        "outputId": "9c4aba0a-b6e0-4482-dde8-6dceaa385c9e"
      },
      "execution_count": 15,
      "outputs": [
        {
          "output_type": "execute_result",
          "data": {
            "text/plain": [
              "array([0, 1, 2, 3, 4, 5, 6, 7, 8, 9])"
            ]
          },
          "metadata": {},
          "execution_count": 15
        }
      ]
    },
    {
      "cell_type": "code",
      "source": [
        "# Finally, we normalize pixels in X_train and X_test to the range [0,1] for faster convergence\n",
        "X_train_subset = X_train_subset.astype('float32')\n",
        "X_train_subset /= 255\n",
        "\n",
        "X_test_subset = X_test_subset.astype('float32')\n",
        "X_test_subset /= 255"
      ],
      "metadata": {
        "id": "1kcxZvlKNQhz"
      },
      "execution_count": 16,
      "outputs": []
    },
    {
      "cell_type": "code",
      "source": [
        "model=Sequential()\n",
        "train_ds=keras.applications.ResNet50(\n",
        "    input_shape=(32,32,3),\n",
        "    include_top=False,\n",
        "    weights=\"imagenet\",\n",
        "    pooling='avg',\n",
        "    classes=10,\n",
        ")"
      ],
      "metadata": {
        "id": "pU5cTnoJLRmF",
        "colab": {
          "base_uri": "https://localhost:8080/"
        },
        "outputId": "08dcc7c3-acd1-4d45-9109-6901f9d57851"
      },
      "execution_count": 19,
      "outputs": [
        {
          "output_type": "stream",
          "name": "stdout",
          "text": [
            "Downloading data from https://storage.googleapis.com/tensorflow/keras-applications/resnet/resnet50_weights_tf_dim_ordering_tf_kernels_notop.h5\n",
            "94765736/94765736 [==============================] - 1s 0us/step\n"
          ]
        }
      ]
    },
    {
      "cell_type": "code",
      "source": [
        "for layer in train_ds.layers:\n",
        "  layer.trainable=False"
      ],
      "metadata": {
        "id": "w2crzTJlNneb"
      },
      "execution_count": 21,
      "outputs": []
    },
    {
      "cell_type": "code",
      "source": [
        "model.add(train_ds)\n",
        "model.add(Dense(10, activation='softmax'))"
      ],
      "metadata": {
        "id": "s-du6ZvZrE5X"
      },
      "execution_count": 22,
      "outputs": []
    },
    {
      "cell_type": "code",
      "source": [
        "model.summary()"
      ],
      "metadata": {
        "colab": {
          "base_uri": "https://localhost:8080/"
        },
        "id": "l7MJ7lvUOl6K",
        "outputId": "a9e207e6-8c28-4086-828c-fedc0dd549f7"
      },
      "execution_count": 23,
      "outputs": [
        {
          "output_type": "stream",
          "name": "stdout",
          "text": [
            "Model: \"sequential\"\n",
            "_________________________________________________________________\n",
            " Layer (type)                Output Shape              Param #   \n",
            "=================================================================\n",
            " resnet50 (Functional)       (None, 2048)              23587712  \n",
            "                                                                 \n",
            " dense (Dense)               (None, 10)                20490     \n",
            "                                                                 \n",
            "=================================================================\n",
            "Total params: 23608202 (90.06 MB)\n",
            "Trainable params: 20490 (80.04 KB)\n",
            "Non-trainable params: 23587712 (89.98 MB)\n",
            "_________________________________________________________________\n"
          ]
        }
      ]
    },
    {
      "cell_type": "code",
      "source": [
        "model.compile(loss=\"sparse_categorical_crossentropy\", optimizer='adam', metrics=[\"accuracy\"])"
      ],
      "metadata": {
        "id": "rFLSSVc2Pf3q"
      },
      "execution_count": 24,
      "outputs": []
    },
    {
      "cell_type": "code",
      "source": [
        "X_train_subset = X_train_subset.transpose((3, 0, 1, 2))\n",
        "X_test_subset = X_test_subset.transpose((3, 0, 1, 2))"
      ],
      "metadata": {
        "id": "GivYdBmKQETy"
      },
      "execution_count": 19,
      "outputs": []
    },
    {
      "cell_type": "code",
      "source": [
        "print(\"X_train_subset shape:\", X_train_subset.shape)\n",
        "print(\"X_test_subset shape:\", X_test_subset.shape)"
      ],
      "metadata": {
        "colab": {
          "base_uri": "https://localhost:8080/"
        },
        "id": "EBJJfD_KP420",
        "outputId": "e27e9c4c-1a5d-47b7-ce26-c61ae8a38220"
      },
      "execution_count": 26,
      "outputs": [
        {
          "output_type": "stream",
          "name": "stdout",
          "text": [
            "X_train_subset shape: (22500, 32, 32, 3)\n",
            "X_test_subset shape: (2500, 32, 32, 3)\n"
          ]
        }
      ]
    },
    {
      "cell_type": "code",
      "source": [
        "history = model.fit(X_train_subset, y_train_subset, batch_size = 64, epochs=1, validation_data=(X_test_subset, y_test_subset))"
      ],
      "metadata": {
        "colab": {
          "base_uri": "https://localhost:8080/"
        },
        "id": "OqyT9hX3Pjq-",
        "outputId": "33d09004-d706-4fa1-8df1-3c1dc9af335f"
      },
      "execution_count": 27,
      "outputs": [
        {
          "output_type": "stream",
          "name": "stdout",
          "text": [
            "352/352 [==============================] - 97s 264ms/step - loss: 2.2613 - accuracy: 0.1878 - val_loss: 2.1983 - val_accuracy: 0.2040\n"
          ]
        }
      ]
    },
    {
      "cell_type": "code",
      "source": [
        "test_loss, test_acc = model.evaluate(X_test_subset, y_test_subset)\n",
        "print('Test accuracy:', test_acc)"
      ],
      "metadata": {
        "colab": {
          "base_uri": "https://localhost:8080/"
        },
        "id": "Se39wBsUsSiR",
        "outputId": "1e888def-4de5-4fb9-b54c-d077775d188b"
      },
      "execution_count": 28,
      "outputs": [
        {
          "output_type": "stream",
          "name": "stdout",
          "text": [
            "79/79 [==============================] - 14s 173ms/step - loss: 2.1983 - accuracy: 0.2040\n",
            "Test accuracy: 0.20399999618530273\n"
          ]
        }
      ]
    },
    {
      "cell_type": "code",
      "source": [
        "model2=Sequential()\n",
        "train_ds_2=keras.applications.VGG16(\n",
        "    input_shape=(32,32,3),\n",
        "    include_top=False,\n",
        "    weights=\"imagenet\",\n",
        "    pooling='avg',\n",
        "    classes=10,\n",
        ")\n",
        "\n",
        "for layer in train_ds_2.layers:\n",
        "  layer.trainable=False\n",
        "\n",
        "model2.add(train_ds_2)\n",
        "model2.add(Dense(10, activation='softmax'))\n",
        "\n",
        "model2.summary()"
      ],
      "metadata": {
        "colab": {
          "base_uri": "https://localhost:8080/"
        },
        "id": "a106jUljvmMW",
        "outputId": "8dcb94a4-fcab-433d-bfef-8b5e53164de6"
      },
      "execution_count": 31,
      "outputs": [
        {
          "output_type": "stream",
          "name": "stdout",
          "text": [
            "Model: \"sequential_3\"\n",
            "_________________________________________________________________\n",
            " Layer (type)                Output Shape              Param #   \n",
            "=================================================================\n",
            " vgg16 (Functional)          (None, 512)               14714688  \n",
            "                                                                 \n",
            " dense_2 (Dense)             (None, 10)                5130      \n",
            "                                                                 \n",
            "=================================================================\n",
            "Total params: 14719818 (56.15 MB)\n",
            "Trainable params: 5130 (20.04 KB)\n",
            "Non-trainable params: 14714688 (56.13 MB)\n",
            "_________________________________________________________________\n"
          ]
        }
      ]
    },
    {
      "cell_type": "code",
      "source": [
        "model2.compile(loss=\"sparse_categorical_crossentropy\", optimizer='adam', metrics=[\"accuracy\"])\n",
        "history = model2.fit(X_train_subset, y_train_subset, batch_size = 64, epochs=1, validation_data=(X_test_subset, y_test_subset))\n",
        "test_loss, test_acc = model2.evaluate(X_test_subset, y_test_subset)\n",
        "print('Test accuracy:', test_acc)"
      ],
      "metadata": {
        "colab": {
          "base_uri": "https://localhost:8080/"
        },
        "id": "WpOoNJWHwH29",
        "outputId": "0f944880-3022-4593-bc5f-39d32ab987db"
      },
      "execution_count": 32,
      "outputs": [
        {
          "output_type": "stream",
          "name": "stdout",
          "text": [
            "352/352 [==============================] - 315s 893ms/step - loss: 1.9123 - accuracy: 0.3420 - val_loss: 1.7360 - val_accuracy: 0.4020\n",
            "79/79 [==============================] - 27s 339ms/step - loss: 1.7360 - accuracy: 0.4020\n",
            "Test accuracy: 0.4020000100135803\n"
          ]
        }
      ]
    },
    {
      "cell_type": "code",
      "source": [
        "model3=Sequential()\n",
        "train_ds_3=keras.applications.ResNet101(\n",
        "    input_shape=(32,32,3),\n",
        "    include_top=False,\n",
        "    weights=\"imagenet\",\n",
        "    pooling='avg',\n",
        "    classes=10,\n",
        ")\n",
        "\n",
        "for layer in train_ds_3.layers:\n",
        "  layer.trainable=False\n",
        "\n",
        "model3.add(train_ds_3)\n",
        "model3.add(Dense(10, activation='softmax'))\n",
        "\n",
        "model3.summary()"
      ],
      "metadata": {
        "colab": {
          "base_uri": "https://localhost:8080/"
        },
        "id": "FMkc0ZXnwlIS",
        "outputId": "e7fd49ab-1b54-4017-99e3-7a8423e85f9d"
      },
      "execution_count": 33,
      "outputs": [
        {
          "output_type": "stream",
          "name": "stdout",
          "text": [
            "Downloading data from https://storage.googleapis.com/tensorflow/keras-applications/resnet/resnet101_weights_tf_dim_ordering_tf_kernels_notop.h5\n",
            "171446536/171446536 [==============================] - 1s 0us/step\n",
            "Model: \"sequential_4\"\n",
            "_________________________________________________________________\n",
            " Layer (type)                Output Shape              Param #   \n",
            "=================================================================\n",
            " resnet101 (Functional)      (None, 2048)              42658176  \n",
            "                                                                 \n",
            " dense_3 (Dense)             (None, 10)                20490     \n",
            "                                                                 \n",
            "=================================================================\n",
            "Total params: 42678666 (162.81 MB)\n",
            "Trainable params: 20490 (80.04 KB)\n",
            "Non-trainable params: 42658176 (162.73 MB)\n",
            "_________________________________________________________________\n"
          ]
        }
      ]
    },
    {
      "cell_type": "code",
      "source": [
        "model3.compile(loss=\"sparse_categorical_crossentropy\", optimizer='adam', metrics=[\"accuracy\"])\n",
        "history = model3.fit(X_train_subset, y_train_subset, batch_size = 64, epochs=1, validation_data=(X_test_subset, y_test_subset))\n",
        "test_loss, test_acc = model3.evaluate(X_test_subset, y_test_subset)\n",
        "print('Test accuracy:', test_acc)"
      ],
      "metadata": {
        "colab": {
          "base_uri": "https://localhost:8080/"
        },
        "id": "i4oL6piDw7S-",
        "outputId": "842824bc-9191-4fa9-b034-4cf0456a0089"
      },
      "execution_count": 34,
      "outputs": [
        {
          "output_type": "stream",
          "name": "stdout",
          "text": [
            "352/352 [==============================] - 182s 495ms/step - loss: 2.2339 - accuracy: 0.1927 - val_loss: 2.2353 - val_accuracy: 0.1688\n",
            "79/79 [==============================] - 18s 234ms/step - loss: 2.2353 - accuracy: 0.1688\n",
            "Test accuracy: 0.1687999963760376\n"
          ]
        }
      ]
    },
    {
      "cell_type": "code",
      "source": [
        "# Lenet\n",
        "model4 = Sequential()\n",
        "\n",
        "model4.add(Conv2D(6, (5, 5), activation='relu', input_shape=(32, 32, 3)))\n",
        "model4.add(MaxPooling2D((2, 2)))\n",
        "model4.add(Conv2D(16, (5, 5), activation='relu'))\n",
        "model4.add(MaxPooling2D((2, 2)))\n",
        "model4.add(Flatten())\n",
        "model4.add(Dense(120, activation='relu'))\n",
        "model4.add(Dense(84, activation='relu'))\n",
        "\n",
        "model4.add(Dense(10, activation='softmax'))\n",
        "\n",
        "model4.summary()\n"
      ],
      "metadata": {
        "colab": {
          "base_uri": "https://localhost:8080/"
        },
        "id": "NFBgoElszGev",
        "outputId": "e203327d-0d44-4b20-e02d-4275148c964e"
      },
      "execution_count": 17,
      "outputs": [
        {
          "output_type": "stream",
          "name": "stdout",
          "text": [
            "Model: \"sequential_1\"\n",
            "_________________________________________________________________\n",
            " Layer (type)                Output Shape              Param #   \n",
            "=================================================================\n",
            " conv2d_2 (Conv2D)           (None, 28, 28, 6)         456       \n",
            "                                                                 \n",
            " max_pooling2d_2 (MaxPoolin  (None, 14, 14, 6)         0         \n",
            " g2D)                                                            \n",
            "                                                                 \n",
            " conv2d_3 (Conv2D)           (None, 10, 10, 16)        2416      \n",
            "                                                                 \n",
            " max_pooling2d_3 (MaxPoolin  (None, 5, 5, 16)          0         \n",
            " g2D)                                                            \n",
            "                                                                 \n",
            " flatten_1 (Flatten)         (None, 400)               0         \n",
            "                                                                 \n",
            " dense_3 (Dense)             (None, 120)               48120     \n",
            "                                                                 \n",
            " dense_4 (Dense)             (None, 84)                10164     \n",
            "                                                                 \n",
            " dense_5 (Dense)             (None, 10)                850       \n",
            "                                                                 \n",
            "=================================================================\n",
            "Total params: 62006 (242.21 KB)\n",
            "Trainable params: 62006 (242.21 KB)\n",
            "Non-trainable params: 0 (0.00 Byte)\n",
            "_________________________________________________________________\n"
          ]
        }
      ]
    },
    {
      "cell_type": "code",
      "source": [
        "model4.compile(loss=\"sparse_categorical_crossentropy\", optimizer='adam', metrics=[\"accuracy\"])\n",
        "history = model4.fit(X_train_subset, y_train_subset, batch_size = 64, epochs=1, validation_data=(X_test_subset, y_test_subset))\n",
        "test_loss, test_acc = model4.evaluate(X_test_subset, y_test_subset)\n",
        "print('Test accuracy:', test_acc)"
      ],
      "metadata": {
        "colab": {
          "base_uri": "https://localhost:8080/"
        },
        "id": "WjWAlDAbYOw5",
        "outputId": "ebfc96d8-9997-402c-9943-fc44fd1850aa"
      },
      "execution_count": 20,
      "outputs": [
        {
          "output_type": "stream",
          "name": "stdout",
          "text": [
            "352/352 [==============================] - 15s 38ms/step - loss: 1.3949 - accuracy: 0.5431 - val_loss: 0.7981 - val_accuracy: 0.7604\n",
            "79/79 [==============================] - 1s 8ms/step - loss: 0.7981 - accuracy: 0.7604\n",
            "Test accuracy: 0.7603999972343445\n"
          ]
        }
      ]
    },
    {
      "cell_type": "code",
      "source": [
        "# Alexnet\n",
        "model5 = Sequential()\n",
        "\n",
        "model5.add(Conv2D(filters=96, kernel_size=(11, 11), strides=(4, 4), activation='relu', input_shape=(224, 224, 3)))\n",
        "model5.add(MaxPooling2D(pool_size=(3, 3), strides=(2, 2)))\n",
        "model5.add(Conv2D(filters=256, kernel_size=(5, 5), padding='same', activation='relu'))\n",
        "model5.add(MaxPooling2D(pool_size=(3, 3), strides=(2, 2)))\n",
        "\n",
        "\n",
        "model5.add(Conv2D(filters=384, kernel_size=(3, 3), padding='same', activation='relu'))\n",
        "model5.add(Conv2D(filters=384, kernel_size=(3, 3), padding='same', activation='relu'))\n",
        "model5.add(Conv2D(filters=256, kernel_size=(3, 3), padding='same', activation='relu'))\n",
        "model5.add(MaxPooling2D(pool_size=(3, 3), strides=(2, 2)))\n",
        "\n",
        "\n",
        "model5.add(Flatten())\n",
        "model5.add(Dense(4096, activation='relu'))\n",
        "model5.add(Dropout(0.5))\n",
        "model5.add(Dense(4096, activation='relu'))\n",
        "model5.add(Dropout(0.5))\n",
        "model5.add(Dense(10, activation='softmax'))\n",
        "\n",
        "model5.summary()"
      ],
      "metadata": {
        "colab": {
          "base_uri": "https://localhost:8080/"
        },
        "id": "8MrpNPJ4zZXC",
        "outputId": "ba0506cd-0f25-49fb-df55-1ec17f0edc91"
      },
      "execution_count": 23,
      "outputs": [
        {
          "output_type": "stream",
          "name": "stdout",
          "text": [
            "Model: \"sequential_3\"\n",
            "_________________________________________________________________\n",
            " Layer (type)                Output Shape              Param #   \n",
            "=================================================================\n",
            " conv2d_9 (Conv2D)           (None, 54, 54, 96)        34944     \n",
            "                                                                 \n",
            " max_pooling2d_7 (MaxPoolin  (None, 26, 26, 96)        0         \n",
            " g2D)                                                            \n",
            "                                                                 \n",
            " conv2d_10 (Conv2D)          (None, 26, 26, 256)       614656    \n",
            "                                                                 \n",
            " max_pooling2d_8 (MaxPoolin  (None, 12, 12, 256)       0         \n",
            " g2D)                                                            \n",
            "                                                                 \n",
            " conv2d_11 (Conv2D)          (None, 12, 12, 384)       885120    \n",
            "                                                                 \n",
            " conv2d_12 (Conv2D)          (None, 12, 12, 384)       1327488   \n",
            "                                                                 \n",
            " conv2d_13 (Conv2D)          (None, 12, 12, 256)       884992    \n",
            "                                                                 \n",
            " max_pooling2d_9 (MaxPoolin  (None, 5, 5, 256)         0         \n",
            " g2D)                                                            \n",
            "                                                                 \n",
            " flatten_3 (Flatten)         (None, 6400)              0         \n",
            "                                                                 \n",
            " dense_7 (Dense)             (None, 4096)              26218496  \n",
            "                                                                 \n",
            " dropout (Dropout)           (None, 4096)              0         \n",
            "                                                                 \n",
            " dense_8 (Dense)             (None, 4096)              16781312  \n",
            "                                                                 \n",
            " dropout_1 (Dropout)         (None, 4096)              0         \n",
            "                                                                 \n",
            " dense_9 (Dense)             (None, 10)                40970     \n",
            "                                                                 \n",
            "=================================================================\n",
            "Total params: 46787978 (178.48 MB)\n",
            "Trainable params: 46787978 (178.48 MB)\n",
            "Non-trainable params: 0 (0.00 Byte)\n",
            "_________________________________________________________________\n"
          ]
        }
      ]
    },
    {
      "cell_type": "code",
      "source": [
        "import tensorflow as tf\n",
        "X_train_subset = tf.image.resize(X_train_subset, (224, 224))\n",
        "X_test_subset = tf.image.resize(X_test_subset, (224, 224))"
      ],
      "metadata": {
        "id": "sydbK1i1ZpHY"
      },
      "execution_count": null,
      "outputs": []
    },
    {
      "cell_type": "code",
      "source": [
        "model5.compile(loss=\"sparse_categorical_crossentropy\", optimizer='adam', metrics=[\"accuracy\"])\n",
        "history = model5.fit(X_train_subset, y_train_subset, batch_size = 64, epochs=1, validation_data=(X_test_subset, y_test_subset))\n",
        "test_loss, test_acc = model5.evaluate(X_test_subset, y_test_subset)\n",
        "print('Test accuracy:', test_acc)"
      ],
      "metadata": {
        "id": "wyKs3rlmYTNF"
      },
      "execution_count": 1,
      "outputs": []
    },
    {
      "cell_type": "markdown",
      "source": [
        "Thus, from the above results, it is evident that the best accuracy for the SVHN dataset was obtained by using the Lenet model."
      ],
      "metadata": {
        "id": "SMA7jYpaaXmw"
      }
    }
  ]
}