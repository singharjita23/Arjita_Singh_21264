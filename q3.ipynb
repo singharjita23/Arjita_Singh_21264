{
  "nbformat": 4,
  "nbformat_minor": 0,
  "metadata": {
    "colab": {
      "provenance": []
    },
    "kernelspec": {
      "name": "python3",
      "display_name": "Python 3"
    },
    "language_info": {
      "name": "python"
    }
  },
  "cells": [
    {
      "cell_type": "code",
      "execution_count": 2,
      "metadata": {
        "colab": {
          "base_uri": "https://localhost:8080/"
        },
        "id": "A1yRVqBGlesq",
        "outputId": "d19c3a1f-5432-4523-bae0-2333beb84672"
      },
      "outputs": [
        {
          "output_type": "stream",
          "name": "stdout",
          "text": [
            "Enter the number of hidden layers you need:2\n",
            "Enter the number of neurons per layer:2\n",
            "Epoch 1/10\n",
            "1875/1875 [==============================] - 6s 3ms/step - loss: -15.0075 - accuracy: 0.1121 - val_loss: -24.7533 - val_accuracy: 0.1135\n",
            "Epoch 2/10\n",
            "1875/1875 [==============================] - 4s 2ms/step - loss: -34.4608 - accuracy: 0.1124 - val_loss: -43.9565 - val_accuracy: 0.1135\n",
            "Epoch 3/10\n",
            "1875/1875 [==============================] - 4s 2ms/step - loss: -53.7100 - accuracy: 0.1124 - val_loss: -63.1352 - val_accuracy: 0.1135\n",
            "Epoch 4/10\n",
            "1875/1875 [==============================] - 6s 3ms/step - loss: -72.9470 - accuracy: 0.1124 - val_loss: -82.3124 - val_accuracy: 0.1135\n",
            "Epoch 5/10\n",
            "1875/1875 [==============================] - 4s 2ms/step - loss: -92.1389 - accuracy: 0.1124 - val_loss: -101.4377 - val_accuracy: 0.1135\n",
            "Epoch 6/10\n",
            "1875/1875 [==============================] - 4s 2ms/step - loss: -111.3676 - accuracy: 0.1124 - val_loss: -120.6147 - val_accuracy: 0.1135\n",
            "Epoch 7/10\n",
            "1875/1875 [==============================] - 5s 3ms/step - loss: -130.5988 - accuracy: 0.1124 - val_loss: -139.7942 - val_accuracy: 0.1135\n",
            "Epoch 8/10\n",
            "1875/1875 [==============================] - 4s 2ms/step - loss: -149.8369 - accuracy: 0.1124 - val_loss: -158.9707 - val_accuracy: 0.1135\n",
            "Epoch 9/10\n",
            "1875/1875 [==============================] - 4s 2ms/step - loss: -169.0737 - accuracy: 0.1124 - val_loss: -178.1489 - val_accuracy: 0.1135\n",
            "Epoch 10/10\n",
            "1875/1875 [==============================] - 5s 3ms/step - loss: -188.2942 - accuracy: 0.1124 - val_loss: -197.2951 - val_accuracy: 0.1135\n",
            "313/313 [==============================] - 1s 2ms/step - loss: -197.2951 - accuracy: 0.1135\n",
            "Test accuracy: 0.11349999904632568\n"
          ]
        }
      ],
      "source": [
        "import numpy as np\n",
        "import tensorflow as tf\n",
        "from tensorflow.keras import layers, models\n",
        "\n",
        "\n",
        "def build_model(input_shape, num_hidden_layers, num_neurons_per_layer, activation):\n",
        "    model = models.Sequential()\n",
        "    model.add(layers.Flatten(input_shape=input_shape))\n",
        "    for _ in range(num_hidden_layers):\n",
        "        model.add(layers.Dense(num_neurons_per_layer, activation=activation))\n",
        "    model.add(layers.Dense(1, activation='sigmoid'))\n",
        "    return model\n",
        "\n",
        "\n",
        "def preprocess_images(X_train, X_test):\n",
        "### NORMALIZATION ###################################################################################\n",
        "    X_train_processed = X_train.astype('float32') / 255.0\n",
        "    X_test_processed = X_test.astype('float32') / 255.0\n",
        "    return X_train_processed, X_test_processed\n",
        "\n",
        "### LOADING MNIST DATASET ###########################################################################\n",
        "(X_train, y_train), (X_test, y_test) = tf.keras.datasets.mnist.load_data()\n",
        "\n",
        "### PREPROCESSING ###################################################################################\n",
        "X_train, X_test = preprocess_images(X_train, X_test)\n",
        "\n",
        "input_shape = X_train[0].shape\n",
        "\n",
        "### HYPERPARAMETERS ##################################################################################\n",
        "num_hidden_layers = int(input(\"Enter the number of hidden layers you need:\"))\n",
        "num_neurons_per_layer = int(input(\"Enter the number of neurons per layer:\"))\n",
        "activation = 'tanh'\n",
        "\n",
        "### MODEL BUILDING ####################################################################################\n",
        "model = build_model(input_shape, num_hidden_layers, num_neurons_per_layer, activation)\n",
        "\n",
        "### MODEL COMPILATION #################################################################################\n",
        "model.compile(optimizer='adam',\n",
        "              loss='binary_crossentropy',\n",
        "              metrics=['accuracy'])\n",
        "\n",
        "### TRAINING ##########################################################################################\n",
        "history = model.fit(X_train, y_train, epochs=10, validation_data=(X_test, y_test))\n",
        "\n",
        "### MODEL EVALUATION ####################################################################################\n",
        "test_loss, test_acc = model.evaluate(X_test, y_test)\n",
        "print(\"Test accuracy:\", test_acc)"
      ]
    }
  ]
}